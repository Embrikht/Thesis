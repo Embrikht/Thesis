{
 "cells": [
  {
   "cell_type": "code",
   "execution_count": 3,
   "id": "3c044f07",
   "metadata": {
    "scrolled": true
   },
   "outputs": [],
   "source": [
    "import pandas as pd\n",
    "import os\n",
    "import matplotlib.pyplot as plt\n",
    "import numpy as np\n",
    "from sklearn.model_selection import train_test_split\n",
    "from sklearn.naive_bayes import GaussianNB\n",
    "from sklearn.metrics import accuracy_score"
   ]
  },
  {
   "cell_type": "code",
   "execution_count": 4,
   "id": "365a0b97",
   "metadata": {},
   "outputs": [],
   "source": [
    "current_directory = os.getcwd()\n",
    "folder_path = os.path.join(current_directory, 'wiki_k2_full_plain')\n",
    "files_in_folder = [filename for filename in os.listdir(folder_path)]"
   ]
  },
  {
   "cell_type": "code",
   "execution_count": 12,
   "id": "f8ec4bba",
   "metadata": {},
   "outputs": [
    {
     "name": "stdout",
     "output_type": "stream",
     "text": [
      "Average accuracy for each file:\n",
      "[0.98, 0.99875, 0.96375, 0.96375, 0.9975, 0.61375, 0.76, 0.61875, 0.87375, 0.89875, 1.0, 0.97, 0.4925, 1.0, 1.0, 0.95625, 0.42625, 0.87, 0.64, 0.8825, 0.47125, 0.96875, 1.0, 0.85875, 0.845, 0.985, 0.54125, 0.9325, 0.47875, 1.0, 0.9625, 0.92, 1.0, 0.6775, 0.99125, 0.575, 1.0, 0.95125, 0.84125, 0.88375, 0.94, 0.96375, 0.53875, 0.65875, 0.90375, 0.9825, 0.9625, 0.94625, 1.0, 0.99625, 0.94625, 1.0, 0.99125, 0.99125, 0.9775, 0.7125, 0.98, 1.0, 0.56, 1.0, 0.84125, 0.86625, 0.95, 0.935, 0.56875, 1.0, 1.0, 0.9075, 0.97125, 0.92, 0.69125, 0.70875, 0.99625, 0.83875, 0.9925, 1.0, 1.0, 0.6725, 1.0, 0.9725, 0.86375, 0.44625, 0.96125, 1.0, 0.7525, 0.80625, 0.97125, 0.98375, 0.7325, 1.0, 1.0, 0.70875, 0.99, 0.785, 0.52, 0.975, 0.55, 0.975, 0.87875, 0.47]\n",
      "---------------------------------------------------\n",
      "Number of files processed: 100\n",
      "---------------------------------------------------\n",
      "Overall average accuracy: 0.8604374999999999\n"
     ]
    }
   ],
   "source": [
    "accuracy_score_list = []\n",
    "for file in files_in_folder:\n",
    "    path_to_file = os.path.join(folder_path, file)\n",
    "    df_k2f = pd.read_csv(path_to_file)\n",
    "    \n",
    "    X = df_k2f[df_k2f.columns[:-1]].values\n",
    "    y = df_k2f[df_k2f.columns[-1]].values\n",
    "\n",
    "    # Running the algorithm multiple times for each file\n",
    "    avg_accuracy_per_file = 0\n",
    "    num_iterations = 100  # Adjust as needed\n",
    "    \n",
    "    for _ in range(num_iterations):\n",
    "        # Splitting the set into training and test set following an 80% - 20% split (train_size=0.8)\n",
    "        # Shuffle the dataset (shuffle=True) and drawing equal number of samples for each label (stratify=y)\n",
    "        X_train_2l, X_test_2l, y_train_2l, y_test_2l = train_test_split(X, y, train_size=0.8, shuffle=True, stratify=y)\n",
    "        \n",
    "        # Gaussian Naive Bayes\n",
    "        nb_model = GaussianNB()\n",
    "        nb_model_2l = nb_model.fit(X_train_2l, y_train_2l)\n",
    "        y_pred_2l = nb_model_2l.predict(X_test_2l)\n",
    "        \n",
    "        avg_accuracy_per_file += accuracy_score(y_test_2l, y_pred_2l, normalize=True)\n",
    "    \n",
    "    avg_accuracy_per_file /= num_iterations\n",
    "    accuracy_score_list.append(avg_accuracy_per_file)\n",
    "\n",
    "# Calculating the overall average accuracy across all files\n",
    "overall_avg_accuracy = sum(accuracy_score_list) / len(accuracy_score_list)\n",
    "\n",
    "print(\"Average accuracy for each file:\")\n",
    "print(accuracy_score_list)\n",
    "print(\"---------------------------------------------------\")\n",
    "print(\"Number of files processed:\", len(accuracy_score_list))\n",
    "print(\"---------------------------------------------------\")\n",
    "print(\"Overall average accuracy:\", overall_avg_accuracy)"
   ]
  },
  {
   "cell_type": "code",
   "execution_count": null,
   "id": "75cacb53",
   "metadata": {},
   "outputs": [],
   "source": []
  }
 ],
 "metadata": {
  "kernelspec": {
   "display_name": "Python 3 (ipykernel)",
   "language": "python",
   "name": "python3"
  },
  "language_info": {
   "codemirror_mode": {
    "name": "ipython",
    "version": 3
   },
   "file_extension": ".py",
   "mimetype": "text/x-python",
   "name": "python",
   "nbconvert_exporter": "python",
   "pygments_lexer": "ipython3",
   "version": "3.10.14"
  }
 },
 "nbformat": 4,
 "nbformat_minor": 5
}
