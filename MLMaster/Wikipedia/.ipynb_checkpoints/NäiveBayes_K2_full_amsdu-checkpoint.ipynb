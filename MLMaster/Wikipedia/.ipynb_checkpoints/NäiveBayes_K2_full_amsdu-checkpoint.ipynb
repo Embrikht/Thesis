{
 "cells": [
  {
   "cell_type": "code",
   "execution_count": 1,
   "id": "e1f37367",
   "metadata": {
    "scrolled": true
   },
   "outputs": [],
   "source": [
    "import pandas as pd\n",
    "import os\n",
    "import matplotlib.pyplot as plt\n",
    "import numpy as np\n",
    "from sklearn.model_selection import train_test_split\n",
    "from sklearn.naive_bayes import GaussianNB\n",
    "from sklearn.metrics import accuracy_score"
   ]
  },
  {
   "cell_type": "code",
   "execution_count": 2,
   "id": "d73a011b",
   "metadata": {},
   "outputs": [],
   "source": [
    "current_directory = os.getcwd()\n",
    "folder_path = os.path.join(current_directory, 'k2_full_amsdu')\n",
    "files_in_folder = [filename for filename in os.listdir(folder_path)]"
   ]
  },
  {
   "cell_type": "code",
   "execution_count": 3,
   "id": "1bff88e4",
   "metadata": {},
   "outputs": [
    {
     "name": "stdout",
     "output_type": "stream",
     "text": [
      "Average accuracy for each file:\n",
      "[0.995, 0.95, 0.98125, 1.0, 0.95125, 1.0, 0.97375, 0.9925, 1.0, 1.0, 1.0, 0.9925, 1.0, 0.9925, 0.96625, 0.985, 1.0, 0.8925, 0.99625, 0.74875, 1.0, 0.94375, 0.9925, 0.9325, 1.0, 0.95625, 0.54375, 1.0, 0.87, 0.99875, 0.98, 0.97375, 0.97625, 0.99125, 0.9775, 0.9925, 1.0, 1.0, 0.91875, 0.99, 0.9775, 1.0, 0.9925, 0.4275, 0.98, 1.0, 0.9775, 1.0, 0.98125, 0.98, 0.98125, 0.99625, 0.98125, 1.0, 0.9925, 1.0, 0.9975, 1.0, 0.90875, 0.995, 0.93125, 1.0, 0.9925, 0.99875, 1.0, 0.98125, 0.99875, 0.98, 1.0, 0.9975, 0.79125, 0.9625, 0.995, 0.9825, 0.9775, 0.965, 1.0, 1.0, 1.0, 1.0, 0.91, 1.0, 0.99625, 0.93125, 1.0, 0.945, 1.0, 1.0, 1.0, 1.0, 0.9975, 0.95125, 0.995, 1.0, 1.0, 1.0, 1.0, 0.98, 0.97875, 0.97875]\n",
      "---------------------------------------------------\n",
      "Number of files processed: 100\n",
      "---------------------------------------------------\n",
      "Overall average accuracy: 0.9684125000000006\n"
     ]
    }
   ],
   "source": [
    "accuracy_score_list = []\n",
    "for file in files_in_folder:\n",
    "    path_to_file = os.path.join(folder_path, file)\n",
    "    df_k2f = pd.read_csv(path_to_file)\n",
    "    \n",
    "    X = df_k2f[df_k2f.columns[:-1]].values\n",
    "    y = df_k2f[df_k2f.columns[-1]].values\n",
    "\n",
    "    # Running the algorithm multiple times for each file\n",
    "    avg_accuracy_per_file = 0\n",
    "    num_iterations = 100  # Adjust as needed\n",
    "    \n",
    "    for _ in range(num_iterations):\n",
    "        # Splitting the set into training and test set following an 80% - 20% split (train_size=0.8)\n",
    "        # Using seed (random state), shuffle the dataset (shuffle=True) and drawing equal number of samples for each label (stratify=y)\n",
    "        X_train_2l, X_test_2l, y_train_2l, y_test_2l = train_test_split(X, y, train_size=0.8, shuffle=True, stratify=y)\n",
    "        \n",
    "        # Gaussian Naive Bayes\n",
    "        nb_model = GaussianNB()\n",
    "        nb_model_2l = nb_model.fit(X_train_2l, y_train_2l)\n",
    "        y_pred_2l = nb_model_2l.predict(X_test_2l)\n",
    "        \n",
    "        avg_accuracy_per_file += accuracy_score(y_test_2l, y_pred_2l, normalize=True)\n",
    "    \n",
    "    avg_accuracy_per_file /= num_iterations\n",
    "    accuracy_score_list.append(avg_accuracy_per_file)\n",
    "\n",
    "# Calculating the overall average accuracy across all files\n",
    "overall_avg_accuracy = sum(accuracy_score_list) / len(accuracy_score_list)\n",
    "\n",
    "print(\"Average accuracy for each file:\")\n",
    "print(accuracy_score_list)\n",
    "print(\"---------------------------------------------------\")\n",
    "print(\"Number of files processed:\", len(accuracy_score_list))\n",
    "print(\"---------------------------------------------------\")\n",
    "print(\"Overall average accuracy:\", overall_avg_accuracy)"
   ]
  },
  {
   "cell_type": "code",
   "execution_count": null,
   "id": "943af03a",
   "metadata": {},
   "outputs": [],
   "source": []
  }
 ],
 "metadata": {
  "kernelspec": {
   "display_name": "Python 3 (ipykernel)",
   "language": "python",
   "name": "python3"
  },
  "language_info": {
   "codemirror_mode": {
    "name": "ipython",
    "version": 3
   },
   "file_extension": ".py",
   "mimetype": "text/x-python",
   "name": "python",
   "nbconvert_exporter": "python",
   "pygments_lexer": "ipython3",
   "version": "3.10.14"
  }
 },
 "nbformat": 4,
 "nbformat_minor": 5
}
