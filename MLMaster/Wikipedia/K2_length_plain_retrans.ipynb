{
 "cells": [
  {
   "cell_type": "code",
   "execution_count": 1,
   "id": "1715ae3f",
   "metadata": {
    "scrolled": true
   },
   "outputs": [],
   "source": [
    "import pandas as pd\n",
    "import os\n",
    "import matplotlib.pyplot as plt\n",
    "import numpy as np\n",
    "from sklearn.model_selection import train_test_split\n",
    "from sklearn.naive_bayes import GaussianNB\n",
    "from sklearn.metrics import accuracy_score"
   ]
  },
  {
   "cell_type": "code",
   "execution_count": 2,
   "id": "331d917b",
   "metadata": {},
   "outputs": [],
   "source": [
    "current_directory = os.getcwd()\n",
    "folder_path = os.path.join(current_directory, 'k2_length_plain_retrans')\n",
    "files_in_folder = [filename for filename in os.listdir(folder_path)]"
   ]
  },
  {
   "cell_type": "code",
   "execution_count": 3,
   "id": "b6720da6",
   "metadata": {},
   "outputs": [
    {
     "name": "stdout",
     "output_type": "stream",
     "text": [
      "Average accuracy for each file:\n",
      "[0.995, 1.0, 1.0, 0.97, 0.9775, 0.99625, 1.0, 0.98125, 0.8625, 0.9725, 0.99125, 0.98125, 0.9925, 0.96, 0.95125, 1.0, 1.0, 0.9975, 0.985, 1.0, 0.99375, 0.9975, 0.9875, 1.0, 0.99625, 0.98, 0.9425, 0.9975, 0.82625, 1.0, 0.98125, 0.99375, 0.9725, 0.97375, 0.96, 0.99875, 0.99375, 0.99875, 1.0, 0.98375, 1.0, 1.0, 1.0, 0.995, 0.98, 0.955, 0.93625, 1.0, 0.99, 1.0, 0.96625, 1.0, 1.0, 1.0, 0.97, 1.0, 0.9975, 0.995, 0.98625, 0.9975, 0.9875, 0.98875, 0.95125, 1.0, 0.95, 0.9975, 0.9975, 1.0, 0.9775, 0.94625, 0.9825, 1.0, 1.0, 0.9775, 1.0, 0.9525, 0.9625, 0.9875, 0.98, 0.99625, 0.99375, 0.9775, 0.9525, 0.9975, 0.9675, 1.0, 0.9375, 0.9525, 0.995, 0.995, 0.995, 0.98125, 0.99875, 0.9875, 0.99625, 0.99375, 0.9875, 0.9875, 0.99625, 0.9775]\n",
      "---------------------------------------------------\n",
      "Number of files processed: 100\n",
      "---------------------------------------------------\n",
      "Overall average accuracy: 0.9826500000000007\n"
     ]
    }
   ],
   "source": [
    "accuracy_score_list = []\n",
    "for file in files_in_folder:\n",
    "    path_to_file = os.path.join(folder_path, file)\n",
    "    df_k2l = pd.read_csv(path_to_file)\n",
    "    \n",
    "    X = df_k2l[df_k2l.columns[:-1]].values\n",
    "    y = df_k2l[df_k2l.columns[-1]].values\n",
    "\n",
    "    # Running the algorithm multiple times for each file\n",
    "    avg_accuracy_per_file = 0\n",
    "    num_iterations = 100  # Adjust as needed\n",
    "    \n",
    "    for _ in range(num_iterations):\n",
    "        # Splitting the set into training and test set following an 80% - 20% split (train_size=0.8)\n",
    "        # Using seed (random state), shuffle the dataset (shuffle=True) and drawing equal number of samples for each label (stratify=y)\n",
    "        X_train_2l, X_test_2l, y_train_2l, y_test_2l = train_test_split(X, y, train_size=0.8, shuffle=True, stratify=y)\n",
    "        \n",
    "        # Gaussian Naive Bayes\n",
    "        nb_model = GaussianNB()\n",
    "        nb_model_2l = nb_model.fit(X_train_2l, y_train_2l)\n",
    "        y_pred_2l = nb_model_2l.predict(X_test_2l)\n",
    "        \n",
    "        avg_accuracy_per_file += accuracy_score(y_test_2l, y_pred_2l, normalize=True)\n",
    "    \n",
    "    avg_accuracy_per_file /= num_iterations\n",
    "    accuracy_score_list.append(avg_accuracy_per_file)\n",
    "\n",
    "# Calculating the overall average accuracy across all files\n",
    "overall_avg_accuracy = sum(accuracy_score_list) / len(accuracy_score_list)\n",
    "\n",
    "print(\"Average accuracy for each file:\")\n",
    "print(accuracy_score_list)\n",
    "print(\"---------------------------------------------------\")\n",
    "print(\"Number of files processed:\", len(accuracy_score_list))\n",
    "print(\"---------------------------------------------------\")\n",
    "print(\"Overall average accuracy:\", overall_avg_accuracy)"
   ]
  },
  {
   "cell_type": "code",
   "execution_count": null,
   "id": "d8a7eafa",
   "metadata": {},
   "outputs": [],
   "source": []
  }
 ],
 "metadata": {
  "kernelspec": {
   "display_name": "Python 3 (ipykernel)",
   "language": "python",
   "name": "python3"
  },
  "language_info": {
   "codemirror_mode": {
    "name": "ipython",
    "version": 3
   },
   "file_extension": ".py",
   "mimetype": "text/x-python",
   "name": "python",
   "nbconvert_exporter": "python",
   "pygments_lexer": "ipython3",
   "version": "3.10.14"
  }
 },
 "nbformat": 4,
 "nbformat_minor": 5
}
