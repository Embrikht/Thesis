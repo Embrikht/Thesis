{
 "cells": [
  {
   "cell_type": "code",
   "execution_count": 1,
   "id": "e1f37367",
   "metadata": {
    "scrolled": true
   },
   "outputs": [],
   "source": [
    "import pandas as pd\n",
    "import os\n",
    "import matplotlib.pyplot as plt\n",
    "import numpy as np\n",
    "from sklearn.model_selection import train_test_split\n",
    "from sklearn.naive_bayes import GaussianNB\n",
    "from sklearn.metrics import accuracy_score"
   ]
  },
  {
   "cell_type": "code",
   "execution_count": 2,
   "id": "d73a011b",
   "metadata": {},
   "outputs": [],
   "source": [
    "current_directory = os.getcwd()\n",
    "folder_path = os.path.join(current_directory, 'k2_full_amsdu')\n",
    "files_in_folder = [filename for filename in os.listdir(folder_path)]"
   ]
  },
  {
   "cell_type": "code",
   "execution_count": 4,
   "id": "1bff88e4",
   "metadata": {},
   "outputs": [
    {
     "name": "stdout",
     "output_type": "stream",
     "text": [
      "[1.0, 0.75, 1.0, 0.875, 0.5, 0.5, 0.75, 1.0, 1.0, 0.625, 1.0, 0.75, 1.0, 1.0, 1.0, 1.0, 1.0, 0.375, 0.5, 1.0, 0.875, 1.0, 1.0, 0.875, 1.0, 0.875, 0.25, 0.875, 0.5, 0.5, 1.0, 0.5, 1.0, 1.0, 0.5, 1.0, 0.375, 0.875, 1.0, 1.0, 1.0, 1.0, 1.0, 0.5, 1.0, 1.0, 1.0, 0.5, 0.75, 0.625, 0.75, 0.875, 1.0, 0.875, 0.5, 0.625, 0.625, 0.5, 0.625, 0.625, 1.0, 1.0, 1.0, 1.0, 0.5, 0.5, 1.0, 0.75, 0.875, 1.0, 1.0, 0.5, 1.0, 0.25, 0.75, 1.0, 1.0, 1.0, 1.0, 1.0, 1.0, 0.75, 1.0, 0.875, 0.875, 1.0, 1.0, 0.5, 1.0, 1.0, 1.0, 0.5, 0.875, 0.875, 1.0, 1.0, 1.0, 0.875, 0.875, 1.0, 0.625, 0.875, 0.5, 1.0, 1.0, 0.5, 0.625, 0.625, 1.0, 0.5, 1.0, 0.5, 1.0, 0.5, 1.0, 1.0, 1.0, 0.875, 0.625, 0.5, 1.0, 1.0, 1.0, 0.875, 0.5, 1.0, 0.875, 1.0, 1.0, 0.625, 0.75, 0.125, 0.875, 1.0, 1.0, 1.0, 0.75, 1.0, 0.875, 0.5, 1.0, 1.0, 0.875, 1.0, 0.625, 0.5, 0.5, 0.5, 1.0, 1.0, 1.0, 0.625, 0.625, 0.75, 1.0, 0.5, 1.0, 1.0, 1.0, 1.0, 1.0, 1.0, 1.0, 1.0, 0.875, 1.0, 1.0, 0.875, 0.375, 0.5, 0.875, 1.0, 0.875, 1.0, 1.0, 0.875, 0.5, 0.5, 0.5, 0.5, 1.0, 1.0, 0.75, 1.0, 1.0, 1.0, 1.0, 1.0, 0.875, 1.0, 1.0, 0.5, 1.0, 0.25, 0.875, 0.75, 1.0, 1.0, 0.5, 0.5, 0.375, 1.0, 0.375, 1.0, 1.0, 0.75, 0.75, 0.5, 1.0, 0.5, 0.5, 0.5, 0.5, 1.0, 1.0, 1.0, 0.875, 1.0, 1.0, 0.875, 1.0, 1.0, 0.875, 0.75, 1.0, 1.0, 0.875, 1.0, 1.0, 0.875, 1.0, 0.875, 0.5, 0.875, 1.0, 0.5, 1.0, 0.75, 0.875, 1.0, 1.0, 0.875, 0.5, 1.0, 0.375, 0.375, 0.75, 0.5, 1.0, 1.0]\n",
      "250\n",
      "0.822\n"
     ]
    }
   ],
   "source": [
    "accuracy_score_list = []\n",
    "for file in files_in_folder:\n",
    "    path_to_file = os.path.join(folder_path, file)\n",
    "    df_k2f = pd.read_csv(path_to_file)\n",
    "    \n",
    "    X = df_k2f[df_k2f.columns[:-1]].values\n",
    "    y = df_k2f[df_k2f.columns[-1]].values\n",
    "\n",
    "    # Splitting the set into training and test set following a 80% - 20% split (train_size=0.8)\n",
    "    # Using seed (random state), shuffle the dataset (shuffle=True) and drawing equal number of samples for each label (stratify=y)\n",
    "    X_train_2f, X_test_2f, y_train_2f, y_test_2f = train_test_split(X, y, random_state=1, train_size=0.8, shuffle=True, stratify=y)\n",
    "\n",
    "    # Gaussian Näive Bayes\n",
    "    nb_model = GaussianNB()\n",
    "    nb_model_2f = nb_model.fit(X_train_2f, y_train_2f)\n",
    "    y_pred_2f = nb_model_2f.predict(X_test_2f)\n",
    "\n",
    "    accuracy_score_list.append(accuracy_score(y_test_2f, y_pred_2f, normalize=True))\n",
    "\n",
    "print(accuracy_score_list)\n",
    "print(\"---------------------------------------------------\")\n",
    "print(len(accuracy_score_list))\n",
    "print(\"---------------------------------------------------\")\n",
    "print(sum(accuracy_score_list)/len(accuracy_score_list))"
   ]
  },
  {
   "cell_type": "code",
   "execution_count": null,
   "id": "943af03a",
   "metadata": {},
   "outputs": [],
   "source": []
  }
 ],
 "metadata": {
  "kernelspec": {
   "display_name": "Python 3 (ipykernel)",
   "language": "python",
   "name": "python3"
  },
  "language_info": {
   "codemirror_mode": {
    "name": "ipython",
    "version": 3
   },
   "file_extension": ".py",
   "mimetype": "text/x-python",
   "name": "python",
   "nbconvert_exporter": "python",
   "pygments_lexer": "ipython3",
   "version": "3.10.14"
  }
 },
 "nbformat": 4,
 "nbformat_minor": 5
}
