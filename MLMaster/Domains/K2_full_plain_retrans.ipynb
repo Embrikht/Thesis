{
 "cells": [
  {
   "cell_type": "code",
   "execution_count": 1,
   "id": "3c044f07",
   "metadata": {
    "scrolled": true
   },
   "outputs": [],
   "source": [
    "import pandas as pd\n",
    "import os\n",
    "import matplotlib.pyplot as plt\n",
    "import numpy as np\n",
    "from sklearn.model_selection import train_test_split\n",
    "from sklearn.naive_bayes import GaussianNB\n",
    "from sklearn.metrics import accuracy_score"
   ]
  },
  {
   "cell_type": "code",
   "execution_count": 2,
   "id": "365a0b97",
   "metadata": {},
   "outputs": [],
   "source": [
    "current_directory = os.getcwd()\n",
    "folder_path = os.path.join(current_directory, 'k2_full_plain_retrans')\n",
    "files_in_folder = [filename for filename in os.listdir(folder_path)]"
   ]
  },
  {
   "cell_type": "code",
   "execution_count": 3,
   "id": "f8ec4bba",
   "metadata": {},
   "outputs": [
    {
     "name": "stdout",
     "output_type": "stream",
     "text": [
      "Average accuracy for each file:\n",
      "[0.88875, 0.92875, 1.0, 0.93875, 0.9175, 0.99375, 0.92, 0.8775, 0.98375, 0.8875, 0.98, 0.92625, 1.0, 0.875, 0.97375, 0.95, 1.0, 0.9175, 0.55125, 1.0, 1.0, 1.0, 0.955, 0.93625, 0.9825, 0.94875, 0.9425, 0.89625, 0.51125, 0.94625, 0.9375, 0.98, 0.6125, 0.85375, 0.58375, 0.95875, 0.89625, 0.9175, 0.9675, 1.0, 1.0, 1.0, 0.83375, 1.0, 0.77375, 0.72125, 0.5275, 0.92125, 0.92, 0.94625, 1.0, 0.80375, 0.9775, 1.0, 0.93875, 0.92375, 0.895, 0.9625, 0.64625, 1.0, 0.9425, 1.0, 0.945, 1.0, 0.98, 0.84875, 1.0, 1.0, 0.645, 0.965, 0.87875, 0.95125, 0.95125, 1.0, 1.0, 0.60625, 0.93875, 0.69875, 0.92125, 0.95125, 1.0, 0.95875, 1.0, 0.975, 0.8375, 0.95, 1.0, 0.98875, 1.0, 0.86, 0.90375, 0.975, 0.95875, 1.0, 0.9825, 1.0, 0.6125, 0.87625, 1.0, 0.97]\n",
      "---------------------------------------------------\n",
      "Number of files processed: 100\n",
      "---------------------------------------------------\n",
      "Overall average accuracy: 0.912\n"
     ]
    }
   ],
   "source": [
    "accuracy_score_list = []\n",
    "for file in files_in_folder:\n",
    "    path_to_file = os.path.join(folder_path, file)\n",
    "    df_k2f = pd.read_csv(path_to_file)\n",
    "    \n",
    "    X = df_k2f[df_k2f.columns[:-1]].values\n",
    "    y = df_k2f[df_k2f.columns[-1]].values\n",
    "\n",
    "    # Running the algorithm multiple times for each file\n",
    "    avg_accuracy_per_file = 0\n",
    "    num_iterations = 100  # Adjust as needed\n",
    "    \n",
    "    for _ in range(num_iterations):\n",
    "        # Splitting the set into training and test set following an 80% - 20% split (train_size=0.8)\n",
    "        # Using seed (random state), shuffle the dataset (shuffle=True) and drawing equal number of samples for each label (stratify=y)\n",
    "        X_train_2l, X_test_2l, y_train_2l, y_test_2l = train_test_split(X, y, train_size=0.8, shuffle=True, stratify=y)\n",
    "        \n",
    "        # Gaussian Naive Bayes\n",
    "        nb_model = GaussianNB()\n",
    "        nb_model_2l = nb_model.fit(X_train_2l, y_train_2l)\n",
    "        y_pred_2l = nb_model_2l.predict(X_test_2l)\n",
    "        \n",
    "        avg_accuracy_per_file += accuracy_score(y_test_2l, y_pred_2l, normalize=True)\n",
    "    \n",
    "    avg_accuracy_per_file /= num_iterations\n",
    "    accuracy_score_list.append(avg_accuracy_per_file)\n",
    "\n",
    "# Calculating the overall average accuracy across all files\n",
    "overall_avg_accuracy = sum(accuracy_score_list) / len(accuracy_score_list)\n",
    "\n",
    "print(\"Average accuracy for each file:\")\n",
    "print(accuracy_score_list)\n",
    "print(\"---------------------------------------------------\")\n",
    "print(\"Number of files processed:\", len(accuracy_score_list))\n",
    "print(\"---------------------------------------------------\")\n",
    "print(\"Overall average accuracy:\", overall_avg_accuracy)"
   ]
  },
  {
   "cell_type": "code",
   "execution_count": null,
   "id": "75cacb53",
   "metadata": {},
   "outputs": [],
   "source": []
  }
 ],
 "metadata": {
  "kernelspec": {
   "display_name": "Python 3 (ipykernel)",
   "language": "python",
   "name": "python3"
  },
  "language_info": {
   "codemirror_mode": {
    "name": "ipython",
    "version": 3
   },
   "file_extension": ".py",
   "mimetype": "text/x-python",
   "name": "python",
   "nbconvert_exporter": "python",
   "pygments_lexer": "ipython3",
   "version": "3.10.14"
  }
 },
 "nbformat": 4,
 "nbformat_minor": 5
}
